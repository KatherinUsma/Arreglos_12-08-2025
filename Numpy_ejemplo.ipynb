{
  "nbformat": 4,
  "nbformat_minor": 0,
  "metadata": {
    "colab": {
      "provenance": [],
      "authorship_tag": "ABX9TyOVNjkZwzcA7KmfQ+6j2HWW",
      "include_colab_link": true
    },
    "kernelspec": {
      "name": "python3",
      "display_name": "Python 3"
    },
    "language_info": {
      "name": "python"
    }
  },
  "cells": [
    {
      "cell_type": "markdown",
      "metadata": {
        "id": "view-in-github",
        "colab_type": "text"
      },
      "source": [
        "<a href=\"https://colab.research.google.com/github/KatherinUsma/Arreglos_12-08-2025/blob/main/Numpy_ejemplo.ipynb\" target=\"_parent\"><img src=\"https://colab.research.google.com/assets/colab-badge.svg\" alt=\"Open In Colab\"/></a>"
      ]
    },
    {
      "cell_type": "code",
      "execution_count": 1,
      "metadata": {
        "colab": {
          "base_uri": "https://localhost:8080/",
          "height": 367
        },
        "id": "-fePYnhaujNT",
        "outputId": "97d8d100-410c-48f4-c5c1-e6bdd7a0237c"
      },
      "outputs": [
        {
          "output_type": "stream",
          "name": "stdout",
          "text": [
            "[0. 0. 0. 0. 0.]\n",
            "[1. 1. 1. 1. 1.]\n"
          ]
        },
        {
          "output_type": "error",
          "ename": "AttributeError",
          "evalue": "module 'numpy' has no attribute 'aranje'",
          "traceback": [
            "\u001b[0;31m---------------------------------------------------------------------------\u001b[0m",
            "\u001b[0;31mAttributeError\u001b[0m                            Traceback (most recent call last)",
            "\u001b[0;32m/tmp/ipython-input-311855728.py\u001b[0m in \u001b[0;36m<cell line: 0>\u001b[0;34m()\u001b[0m\n\u001b[1;32m      6\u001b[0m \u001b[0mvector2\u001b[0m \u001b[0;34m=\u001b[0m\u001b[0mnp\u001b[0m\u001b[0;34m.\u001b[0m\u001b[0mones\u001b[0m\u001b[0;34m(\u001b[0m\u001b[0;36m5\u001b[0m\u001b[0;34m)\u001b[0m \u001b[0;31m#cramos un vector de 5 unos\u001b[0m\u001b[0;34m\u001b[0m\u001b[0;34m\u001b[0m\u001b[0m\n\u001b[1;32m      7\u001b[0m \u001b[0mprint\u001b[0m\u001b[0;34m(\u001b[0m\u001b[0mvector2\u001b[0m\u001b[0;34m)\u001b[0m\u001b[0;34m\u001b[0m\u001b[0;34m\u001b[0m\u001b[0m\n\u001b[0;32m----> 8\u001b[0;31m \u001b[0mvector3\u001b[0m \u001b[0;34m=\u001b[0m\u001b[0mnp\u001b[0m\u001b[0;34m.\u001b[0m\u001b[0maranje\u001b[0m\u001b[0;34m(\u001b[0m\u001b[0;36m1\u001b[0m\u001b[0;34m,\u001b[0m\u001b[0;36m10\u001b[0m\u001b[0;34m)\u001b[0m \u001b[0;31m#creamos un vector de rango de 1 a 10\u001b[0m\u001b[0;34m\u001b[0m\u001b[0;34m\u001b[0m\u001b[0m\n\u001b[0m\u001b[1;32m      9\u001b[0m \u001b[0mprint\u001b[0m\u001b[0;34m(\u001b[0m\u001b[0;34m\"rango\"\u001b[0m\u001b[0;34m,\u001b[0m \u001b[0mvector3\u001b[0m\u001b[0;34m)\u001b[0m\u001b[0;34m\u001b[0m\u001b[0;34m\u001b[0m\u001b[0m\n\u001b[1;32m     10\u001b[0m \u001b[0mvector4\u001b[0m \u001b[0;34m=\u001b[0m\u001b[0mnp\u001b[0m\u001b[0;34m.\u001b[0m\u001b[0mlinspace\u001b[0m\u001b[0;34m(\u001b[0m\u001b[0;36m1\u001b[0m\u001b[0;34m,\u001b[0m \u001b[0;36m10\u001b[0m\u001b[0;34m,\u001b[0m \u001b[0;36m5\u001b[0m\u001b[0;34m)\u001b[0m \u001b[0;31m#Creamos un vector de intervalos de 1, 10 y 5\u001b[0m\u001b[0;34m\u001b[0m\u001b[0;34m\u001b[0m\u001b[0m\n",
            "\u001b[0;32m/usr/local/lib/python3.11/dist-packages/numpy/__init__.py\u001b[0m in \u001b[0;36m__getattr__\u001b[0;34m(attr)\u001b[0m\n\u001b[1;32m    408\u001b[0m             \u001b[0;32mreturn\u001b[0m \u001b[0mchar\u001b[0m\u001b[0;34m.\u001b[0m\u001b[0mchararray\u001b[0m\u001b[0;34m\u001b[0m\u001b[0;34m\u001b[0m\u001b[0m\n\u001b[1;32m    409\u001b[0m \u001b[0;34m\u001b[0m\u001b[0m\n\u001b[0;32m--> 410\u001b[0;31m         raise AttributeError(\"module {!r} has no attribute \"\n\u001b[0m\u001b[1;32m    411\u001b[0m                              \"{!r}\".format(__name__, attr))\n\u001b[1;32m    412\u001b[0m \u001b[0;34m\u001b[0m\u001b[0m\n",
            "\u001b[0;31mAttributeError\u001b[0m: module 'numpy' has no attribute 'aranje'"
          ]
        }
      ],
      "source": [
        "import numpy as np # np es un alias para simplificar en nombre numpy\n",
        "vector = np.array([1, 2, 3, 4, 5,]) #Creamos un vector de numpy\n",
        "\n",
        "vector1 =np.zeros(5) #creamos un vector de 5 ceros\n",
        "print(vector1)\n",
        "vector2 =np.ones(5) #cramos un vector de 5 unos\n",
        "print(vector2)\n",
        "vector3 =np.aranje(1,10) #creamos un vector de rango de 1 a 10\n",
        "print(\"rango\", vector3)\n",
        "vector4 =np.linspace(1, 10, 5) #Creamos un vector de intervalos de 1, 10 y 5\n",
        "print(\"linspace\",vector4)\n",
        "vector5 =np.random.rand(10) #Creamos un vector random de 10 numeros aleatoreos\n",
        "print(\"random\",vector5)\n",
        "vector6 =np.random.randint(1, 10, 100) #Creamos un vector random de 1 a 100 numeros aleatorios\n",
        "print(\"randint\", vector6)\n"
      ]
    },
    {
      "cell_type": "code",
      "source": [
        "import numpy as np\n",
        "vector1 = np.array([1, 2, 3])\n",
        "vector2 = np.array([4, 5, 6])\n",
        "#Suma de vectores\n",
        "suma = vector1 + vector2\n",
        "print(\"suma de vectores: \", suma)\n",
        "#Multiplicacion de vectores\n",
        "producto = vector1 * vector2\n",
        "print(\"producto de vectores:\", producto)\n",
        "#Division de vectores\n",
        "division = vector1 / vector2\n",
        "print(\"division de vectores:\", division)\n",
        "#Resta de vectores\n",
        "resta = vector1 - vector2\n",
        "print(\"resta de vectores:\", resta)\n",
        "#Potencia de vectores\n",
        "potencia = vector1 **2\n",
        "print(\"/x1b[1;33m\"+\"potencia de vectores:\", potencia)"
      ],
      "metadata": {
        "colab": {
          "base_uri": "https://localhost:8080/"
        },
        "id": "v3r2SCj-u5P4",
        "outputId": "4f675845-a262-4e2a-dc21-0c6267a5773b"
      },
      "execution_count": 2,
      "outputs": [
        {
          "output_type": "stream",
          "name": "stdout",
          "text": [
            "suma de vectores:  [5 7 9]\n",
            "producto de vectores: [ 4 10 18]\n",
            "division de vectores: [0.25 0.4  0.5 ]\n",
            "resta de vectores: [-3 -3 -3]\n",
            "/x1b[1;33mpotencia de vectores: [1 4 9]\n"
          ]
        }
      ]
    },
    {
      "cell_type": "markdown",
      "source": [
        "![image.png](data:image/png;base64,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)"
      ],
      "metadata": {
        "id": "hRwz54EtvPQI"
      }
    },
    {
      "cell_type": "code",
      "source": [
        "import numpy as np\n",
        "\n",
        "# Crear una matriz de 3x3 con valores aleatorios entre 0 y 100\n",
        "matriz = np.random.randint(0, 100, (3, 3))\n",
        "print(\"Matriz aleatoria 3x3:\\n\", matriz)\n",
        "\n",
        "# Crear otra matriz 3x3 con enteros aleatorios usando un generador\n",
        "generador = np.random.default_rng()\n",
        "matriz2 = generador.integers(0, 1000, (3, 3))\n",
        "print(\"\\nMatriz aleatoria con generador (rango 0-999):\\n\", matriz2)\n",
        "\n",
        "# Crear matriz identidad de 3x3\n",
        "matriz_identidad = np.eye(3)\n",
        "print(\"\\nMatriz identidad 3x3:\\n\", matriz_identidad)\n",
        "\n",
        "# Transponer la primera matriz aleatoria\n",
        "matriz_transpuesta = matriz.T\n",
        "print(\"\\nMatriz transpuesta:\\n\", matriz_transpuesta)\n",
        "\n",
        "# Crear una matriz de ceros de 2x2\n",
        "matriz_zeros = np.zeros((2, 2))\n",
        "print(\"\\nMatriz 2x2 de ceros:\\n\", matriz_zeros)\n",
        "\n",
        "# Asignar 1 a la diagonal principal\n",
        "for i in range(2):\n",
        "    matriz_zeros[i][i] = 1\n",
        "print(\"\\nMatriz con diagonal en 1:\\n\", matriz_zeros)\n",
        "\n",
        "# Rellenar la matriz con valores aleatorios entre 1 y 100\n",
        "for fila in range(2):\n",
        "    for columna in range(2):\n",
        "        matriz_zeros[fila][columna] = np.random.randint(1, 101)\n",
        "\n",
        "print(\"\\nMatriz 2x2 con valores aleatorios (1-100):\\n\", matriz_zeros)"
      ],
      "metadata": {
        "colab": {
          "base_uri": "https://localhost:8080/"
        },
        "id": "PJiS7oAy-HU-",
        "outputId": "cc3bb932-d690-4af6-b506-0d9a8ef2d2f6"
      },
      "execution_count": 4,
      "outputs": [
        {
          "output_type": "stream",
          "name": "stdout",
          "text": [
            "Matriz aleatoria 3x3:\n",
            " [[20  8 74]\n",
            " [74  8 24]\n",
            " [90 88  7]]\n",
            "\n",
            "Matriz aleatoria con generador (rango 0-999):\n",
            " [[430  98 102]\n",
            " [973 574 371]\n",
            " [880 683 554]]\n",
            "\n",
            "Matriz identidad 3x3:\n",
            " [[1. 0. 0.]\n",
            " [0. 1. 0.]\n",
            " [0. 0. 1.]]\n",
            "\n",
            "Matriz transpuesta:\n",
            " [[20 74 90]\n",
            " [ 8  8 88]\n",
            " [74 24  7]]\n",
            "\n",
            "Matriz 2x2 de ceros:\n",
            " [[0. 0.]\n",
            " [0. 0.]]\n",
            "\n",
            "Matriz con diagonal en 1:\n",
            " [[1. 0.]\n",
            " [0. 1.]]\n",
            "\n",
            "Matriz 2x2 con valores aleatorios (1-100):\n",
            " [[88. 31.]\n",
            " [13. 43.]]\n"
          ]
        }
      ]
    }
  ]
}